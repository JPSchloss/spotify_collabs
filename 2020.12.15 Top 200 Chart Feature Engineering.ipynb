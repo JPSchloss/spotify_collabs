{
 "cells": [
  {
   "cell_type": "code",
   "execution_count": 1,
   "metadata": {},
   "outputs": [],
   "source": [
    "import pandas as pd\n",
    "import os\n",
    "import re\n",
    "import numpy as np\n",
    "\n",
    "# Display all columns when previewing dataframes\n",
    "from IPython.display import display\n",
    "pd.options.display.max_columns = None"
   ]
  },
  {
   "cell_type": "markdown",
   "metadata": {},
   "source": [
    "### Import Top 200 Chart data"
   ]
  },
  {
   "cell_type": "code",
   "execution_count": 2,
   "metadata": {},
   "outputs": [],
   "source": [
    "# Change path to where spotify_top200.csv is located\n",
    "\n",
    "# path = '/home/jovyan/work/Documents/Correlation One/spotipy/'\n",
    "path = r'/Users/minhhoang/Documents/Correlation One/spotipy'\n",
    "path_input = os.path.join(path, 'input')"
   ]
  },
  {
   "cell_type": "code",
   "execution_count": 3,
   "metadata": {},
   "outputs": [],
   "source": [
    "# Import check point 1 (dataset includes all songs on charts regardless of collaboration, but does not have API audio features/colalborator names)\n",
    "data_top200 = pd.read_csv(os.path.join(path_input, 'spotify_top200.csv'))\n",
    "\n",
    "# Import checkpoint 2 (dataset only includes songs with at least 2 collaborators)\n",
    "data_top200_reduced = pd.read_csv(os.path.join(path_input, 'spotify_top200_reduced.csv'))\\\n",
    ".drop(columns = ['Unnamed: 0'])"
   ]
  },
  {
   "cell_type": "code",
   "execution_count": null,
   "metadata": {},
   "outputs": [],
   "source": [
    "print(len(data_top200[data_top200.duplicated()]))\n",
    "# data_top200[data_top200.duplicated()].head()"
   ]
  },
  {
   "cell_type": "code",
   "execution_count": 6,
   "metadata": {},
   "outputs": [
    {
     "data": {
      "text/plain": [
       "124211"
      ]
     },
     "execution_count": 6,
     "metadata": {},
     "output_type": "execute_result"
    }
   ],
   "source": [
    "print(len(data_top200_reduced[data_top200_reduced.duplicated()]))"
   ]
  },
  {
   "cell_type": "code",
   "execution_count": 72,
   "metadata": {},
   "outputs": [
    {
     "data": {
      "text/plain": [
       "array(['2019', '2020', '2018', '2017'], dtype=object)"
      ]
     },
     "execution_count": 72,
     "metadata": {},
     "output_type": "execute_result"
    }
   ],
   "source": [
    "data_top200_reduced['Year'] = data_top200_reduced['Date'].dt.strftime('%Y')\n",
    "data_top200_reduced['Year'].unique()"
   ]
  },
  {
   "cell_type": "code",
   "execution_count": 8,
   "metadata": {},
   "outputs": [],
   "source": [
    "data_top200['Date'] = pd.to_datetime(data_top200['Date'])\n",
    "data_top200_reduced['Date'] = pd.to_datetime(data_top200_reduced['Date'])"
   ]
  },
  {
   "cell_type": "code",
   "execution_count": 9,
   "metadata": {},
   "outputs": [
    {
     "data": {
      "text/html": [
       "<div>\n",
       "<style scoped>\n",
       "    .dataframe tbody tr th:only-of-type {\n",
       "        vertical-align: middle;\n",
       "    }\n",
       "\n",
       "    .dataframe tbody tr th {\n",
       "        vertical-align: top;\n",
       "    }\n",
       "\n",
       "    .dataframe thead tr th {\n",
       "        text-align: left;\n",
       "    }\n",
       "\n",
       "    .dataframe thead tr:last-of-type th {\n",
       "        text-align: right;\n",
       "    }\n",
       "</style>\n",
       "<table border=\"1\" class=\"dataframe\">\n",
       "  <thead>\n",
       "    <tr>\n",
       "      <th></th>\n",
       "      <th colspan=\"8\" halign=\"left\">Position</th>\n",
       "      <th colspan=\"8\" halign=\"left\">Streams</th>\n",
       "    </tr>\n",
       "    <tr>\n",
       "      <th></th>\n",
       "      <th>count</th>\n",
       "      <th>mean</th>\n",
       "      <th>std</th>\n",
       "      <th>min</th>\n",
       "      <th>25%</th>\n",
       "      <th>50%</th>\n",
       "      <th>75%</th>\n",
       "      <th>max</th>\n",
       "      <th>count</th>\n",
       "      <th>mean</th>\n",
       "      <th>std</th>\n",
       "      <th>min</th>\n",
       "      <th>25%</th>\n",
       "      <th>50%</th>\n",
       "      <th>75%</th>\n",
       "      <th>max</th>\n",
       "    </tr>\n",
       "    <tr>\n",
       "      <th>Date</th>\n",
       "      <th></th>\n",
       "      <th></th>\n",
       "      <th></th>\n",
       "      <th></th>\n",
       "      <th></th>\n",
       "      <th></th>\n",
       "      <th></th>\n",
       "      <th></th>\n",
       "      <th></th>\n",
       "      <th></th>\n",
       "      <th></th>\n",
       "      <th></th>\n",
       "      <th></th>\n",
       "      <th></th>\n",
       "      <th></th>\n",
       "      <th></th>\n",
       "    </tr>\n",
       "  </thead>\n",
       "  <tbody>\n",
       "    <tr>\n",
       "      <td>2020-12-01</td>\n",
       "      <td>400.0</td>\n",
       "      <td>100.5</td>\n",
       "      <td>57.806609</td>\n",
       "      <td>1.0</td>\n",
       "      <td>50.75</td>\n",
       "      <td>100.5</td>\n",
       "      <td>150.25</td>\n",
       "      <td>200.0</td>\n",
       "      <td>400.0</td>\n",
       "      <td>382953.155</td>\n",
       "      <td>194109.435538</td>\n",
       "      <td>216120.0</td>\n",
       "      <td>253033.75</td>\n",
       "      <td>313938.5</td>\n",
       "      <td>430747.25</td>\n",
       "      <td>1180552.0</td>\n",
       "    </tr>\n",
       "    <tr>\n",
       "      <td>2020-12-02</td>\n",
       "      <td>400.0</td>\n",
       "      <td>100.5</td>\n",
       "      <td>57.806609</td>\n",
       "      <td>1.0</td>\n",
       "      <td>50.75</td>\n",
       "      <td>100.5</td>\n",
       "      <td>150.25</td>\n",
       "      <td>200.0</td>\n",
       "      <td>400.0</td>\n",
       "      <td>405067.580</td>\n",
       "      <td>182259.726853</td>\n",
       "      <td>243003.0</td>\n",
       "      <td>283911.00</td>\n",
       "      <td>333107.0</td>\n",
       "      <td>455940.50</td>\n",
       "      <td>1119816.0</td>\n",
       "    </tr>\n",
       "    <tr>\n",
       "      <td>2020-12-03</td>\n",
       "      <td>400.0</td>\n",
       "      <td>100.5</td>\n",
       "      <td>57.806609</td>\n",
       "      <td>1.0</td>\n",
       "      <td>50.75</td>\n",
       "      <td>100.5</td>\n",
       "      <td>150.25</td>\n",
       "      <td>200.0</td>\n",
       "      <td>400.0</td>\n",
       "      <td>404636.320</td>\n",
       "      <td>180952.683832</td>\n",
       "      <td>242120.0</td>\n",
       "      <td>283171.25</td>\n",
       "      <td>336057.5</td>\n",
       "      <td>456117.25</td>\n",
       "      <td>1083677.0</td>\n",
       "    </tr>\n",
       "    <tr>\n",
       "      <td>2020-12-04</td>\n",
       "      <td>400.0</td>\n",
       "      <td>100.5</td>\n",
       "      <td>57.806609</td>\n",
       "      <td>1.0</td>\n",
       "      <td>50.75</td>\n",
       "      <td>100.5</td>\n",
       "      <td>150.25</td>\n",
       "      <td>200.0</td>\n",
       "      <td>400.0</td>\n",
       "      <td>429541.285</td>\n",
       "      <td>194266.144861</td>\n",
       "      <td>258476.0</td>\n",
       "      <td>297287.00</td>\n",
       "      <td>346736.0</td>\n",
       "      <td>487086.25</td>\n",
       "      <td>1184448.0</td>\n",
       "    </tr>\n",
       "    <tr>\n",
       "      <td>2020-12-05</td>\n",
       "      <td>400.0</td>\n",
       "      <td>100.5</td>\n",
       "      <td>57.806609</td>\n",
       "      <td>1.0</td>\n",
       "      <td>50.75</td>\n",
       "      <td>100.5</td>\n",
       "      <td>150.25</td>\n",
       "      <td>200.0</td>\n",
       "      <td>400.0</td>\n",
       "      <td>441886.735</td>\n",
       "      <td>234794.626553</td>\n",
       "      <td>254903.0</td>\n",
       "      <td>288089.75</td>\n",
       "      <td>345251.5</td>\n",
       "      <td>497497.75</td>\n",
       "      <td>1495884.0</td>\n",
       "    </tr>\n",
       "    <tr>\n",
       "      <td>2020-12-06</td>\n",
       "      <td>400.0</td>\n",
       "      <td>100.5</td>\n",
       "      <td>57.806609</td>\n",
       "      <td>1.0</td>\n",
       "      <td>50.75</td>\n",
       "      <td>100.5</td>\n",
       "      <td>150.25</td>\n",
       "      <td>200.0</td>\n",
       "      <td>400.0</td>\n",
       "      <td>403925.290</td>\n",
       "      <td>219632.993609</td>\n",
       "      <td>231235.0</td>\n",
       "      <td>262511.75</td>\n",
       "      <td>312320.5</td>\n",
       "      <td>460554.75</td>\n",
       "      <td>1393655.0</td>\n",
       "    </tr>\n",
       "    <tr>\n",
       "      <td>2020-12-07</td>\n",
       "      <td>400.0</td>\n",
       "      <td>100.5</td>\n",
       "      <td>57.806609</td>\n",
       "      <td>1.0</td>\n",
       "      <td>50.75</td>\n",
       "      <td>100.5</td>\n",
       "      <td>150.25</td>\n",
       "      <td>200.0</td>\n",
       "      <td>400.0</td>\n",
       "      <td>385543.085</td>\n",
       "      <td>183254.761892</td>\n",
       "      <td>230386.0</td>\n",
       "      <td>261688.75</td>\n",
       "      <td>312555.0</td>\n",
       "      <td>439734.50</td>\n",
       "      <td>1145905.0</td>\n",
       "    </tr>\n",
       "  </tbody>\n",
       "</table>\n",
       "</div>"
      ],
      "text/plain": [
       "           Position                                                      \\\n",
       "              count   mean        std  min    25%    50%     75%    max   \n",
       "Date                                                                      \n",
       "2020-12-01    400.0  100.5  57.806609  1.0  50.75  100.5  150.25  200.0   \n",
       "2020-12-02    400.0  100.5  57.806609  1.0  50.75  100.5  150.25  200.0   \n",
       "2020-12-03    400.0  100.5  57.806609  1.0  50.75  100.5  150.25  200.0   \n",
       "2020-12-04    400.0  100.5  57.806609  1.0  50.75  100.5  150.25  200.0   \n",
       "2020-12-05    400.0  100.5  57.806609  1.0  50.75  100.5  150.25  200.0   \n",
       "2020-12-06    400.0  100.5  57.806609  1.0  50.75  100.5  150.25  200.0   \n",
       "2020-12-07    400.0  100.5  57.806609  1.0  50.75  100.5  150.25  200.0   \n",
       "\n",
       "           Streams                                                            \\\n",
       "             count        mean            std       min        25%       50%   \n",
       "Date                                                                           \n",
       "2020-12-01   400.0  382953.155  194109.435538  216120.0  253033.75  313938.5   \n",
       "2020-12-02   400.0  405067.580  182259.726853  243003.0  283911.00  333107.0   \n",
       "2020-12-03   400.0  404636.320  180952.683832  242120.0  283171.25  336057.5   \n",
       "2020-12-04   400.0  429541.285  194266.144861  258476.0  297287.00  346736.0   \n",
       "2020-12-05   400.0  441886.735  234794.626553  254903.0  288089.75  345251.5   \n",
       "2020-12-06   400.0  403925.290  219632.993609  231235.0  262511.75  312320.5   \n",
       "2020-12-07   400.0  385543.085  183254.761892  230386.0  261688.75  312555.0   \n",
       "\n",
       "                                  \n",
       "                  75%        max  \n",
       "Date                              \n",
       "2020-12-01  430747.25  1180552.0  \n",
       "2020-12-02  455940.50  1119816.0  \n",
       "2020-12-03  456117.25  1083677.0  \n",
       "2020-12-04  487086.25  1184448.0  \n",
       "2020-12-05  497497.75  1495884.0  \n",
       "2020-12-06  460554.75  1393655.0  \n",
       "2020-12-07  439734.50  1145905.0  "
      ]
     },
     "execution_count": 9,
     "metadata": {},
     "output_type": "execute_result"
    }
   ],
   "source": [
    "# data_top200.groupby(['Country'])[['Position']].describe()\n",
    "data_top200.loc[(data_top200['Country'].isin(['United States'])) &\n",
    "                (data_top200['Date'] >= '2020-12-01'),:]\\\n",
    ".groupby(['Date']).describe()"
   ]
  },
  {
   "cell_type": "code",
   "execution_count": 19,
   "metadata": {},
   "outputs": [],
   "source": [
    "data_top200_augment = data_top200.drop_duplicates()\\\n",
    ".merge(data_top200_reduced.drop_duplicates(), how='left', \n",
    "                            on=['Date', 'Track URL', 'Position', 'Track Name', \n",
    "                                'Artist', 'Streams', 'Country'])\\\n",
    ".drop_duplicates()"
   ]
  },
  {
   "cell_type": "code",
   "execution_count": 11,
   "metadata": {},
   "outputs": [
    {
     "name": "stdout",
     "output_type": "stream",
     "text": [
      "Index(['Date', 'Track URL', 'Position', 'Track Name', 'Artist', 'Streams',\n",
      "       'Country', 'Track URI', 'Collaborator URI', 'No. of Collaborators'],\n",
      "      dtype='object')\n"
     ]
    }
   ],
   "source": [
    "# print(data_top200.columns)\n",
    "# print(data_top200_reduced.columns)\n",
    "print(data_top200_augment.columns)"
   ]
  },
  {
   "cell_type": "code",
   "execution_count": 64,
   "metadata": {},
   "outputs": [
    {
     "name": "stdout",
     "output_type": "stream",
     "text": [
      "14546258\n",
      "14249658\n",
      "6581714\n",
      "6457503\n"
     ]
    }
   ],
   "source": [
    "print(len(data_top200.index))\n",
    "print(len(data_top200.drop_duplicates().index))\n",
    "\n",
    "print(len(data_top200_reduced.index))\n",
    "print(len(data_top200_reduced.drop_duplicates().index))"
   ]
  },
  {
   "cell_type": "code",
   "execution_count": 20,
   "metadata": {},
   "outputs": [
    {
     "name": "stdout",
     "output_type": "stream",
     "text": [
      "6581714\n",
      "14249658\n"
     ]
    }
   ],
   "source": [
    "print(len(data_top200_reduced.index))\n",
    "print(len(data_top200_augment.index))"
   ]
  },
  {
   "cell_type": "code",
   "execution_count": 22,
   "metadata": {},
   "outputs": [],
   "source": [
    "data_top200_augment['Country'] = data_top200_augment['Country'].apply(lambda x: 'Viet Nam' if x == 'Viet Name' else x) \n",
    "data_top200_augment['Date'] = pd.to_datetime(data_top200_augment['Date'])"
   ]
  },
  {
   "cell_type": "code",
   "execution_count": 24,
   "metadata": {},
   "outputs": [
    {
     "name": "stdout",
     "output_type": "stream",
     "text": [
      "14249658\n"
     ]
    }
   ],
   "source": [
    "data1 = data_top200_augment.drop_duplicates()\n",
    "# data1 = data1[data1['Country'] == 'United States']\n",
    "print(len(data1.index))"
   ]
  },
  {
   "cell_type": "code",
   "execution_count": 27,
   "metadata": {},
   "outputs": [],
   "source": [
    "# data1.groupby(['Country'])[['Position']].describe()"
   ]
  },
  {
   "cell_type": "code",
   "execution_count": 28,
   "metadata": {},
   "outputs": [],
   "source": [
    "data2 = data1.sort_values(by=['Country', 'Artist', 'Date', 'Track Name'], ascending=[True,True,True,True])"
   ]
  },
  {
   "cell_type": "markdown",
   "metadata": {},
   "source": [
    "### Generate new variables"
   ]
  },
  {
   "cell_type": "markdown",
   "metadata": {},
   "source": [
    "Calculate a song's earliest appearance on the chart"
   ]
  },
  {
   "cell_type": "code",
   "execution_count": 29,
   "metadata": {},
   "outputs": [],
   "source": [
    "data3 = data2\n",
    "data3['Song_min_date'] = data3.groupby(['Country', 'Artist', 'Track Name'])[['Date']].transform('min')"
   ]
  },
  {
   "cell_type": "markdown",
   "metadata": {},
   "source": [
    "Calculate the number of days between the current chart day and the song's first day on the chart "
   ]
  },
  {
   "cell_type": "code",
   "execution_count": 30,
   "metadata": {},
   "outputs": [],
   "source": [
    "data3['Song_days_since_first'] = data3['Date'] - data3['Song_min_date']\n",
    "data3['Song_days_since_first'] = data3['Song_days_since_first'].apply(lambda x: x.days)"
   ]
  },
  {
   "cell_type": "markdown",
   "metadata": {},
   "source": [
    "Calculate the actual number of days that the song has appeared on the chart "
   ]
  },
  {
   "cell_type": "code",
   "execution_count": 31,
   "metadata": {},
   "outputs": [],
   "source": [
    "data3['Song_days_onchart'] = data3.groupby(['Country', 'Artist', 'Track Name']).cumcount() + 1\n",
    "# The two previous variables are similar, but may differ if the song temporarily goes off the chart and gets back on at a later date"
   ]
  },
  {
   "cell_type": "markdown",
   "metadata": {},
   "source": [
    "Identify the first time an artist appears on the Top 200 chart (in a country)\n",
    "This needs to be run with the complete dataset, not just on songs with collaboration"
   ]
  },
  {
   "cell_type": "code",
   "execution_count": 32,
   "metadata": {},
   "outputs": [],
   "source": [
    "data3['Artist_min_date'] = data3.groupby(['Country', 'Artist'])[['Date']].transform('min')"
   ]
  },
  {
   "cell_type": "markdown",
   "metadata": {},
   "source": [
    "Generate a dummy variable that = 1 if this is the first time a song appears"
   ]
  },
  {
   "cell_type": "code",
   "execution_count": 33,
   "metadata": {},
   "outputs": [],
   "source": [
    "data3['Artist_new_song'] = np.where(data3['Song_days_onchart']==1, 1, 0)"
   ]
  },
  {
   "cell_type": "markdown",
   "metadata": {},
   "source": [
    "Calculate the number of days elapsed between a song's current appearance and its last appearance\n",
    "If Date_diff = 1, then the song appeared yesterday and today."
   ]
  },
  {
   "cell_type": "code",
   "execution_count": 34,
   "metadata": {},
   "outputs": [],
   "source": [
    "data3['Date_lag'] =  data3.groupby(['Country', 'Artist', 'Track Name'])[['Date']].shift(1)\n",
    "data3['Date_diff'] = data3['Date'] - data3['Date_lag']\n",
    "data3['Date_diff'] = data3['Date_diff'].apply(lambda x: x.days)"
   ]
  },
  {
   "cell_type": "markdown",
   "metadata": {},
   "source": [
    "When Date_diff is > 1 , we assume that the song has temporarily dropped off the chart (hence ending its last consecutive streak),\n",
    "so we create a binary variable \"Song_new_streak\" that signals the beginnning of a new streak"
   ]
  },
  {
   "cell_type": "code",
   "execution_count": 35,
   "metadata": {},
   "outputs": [],
   "source": [
    "data4 = data3\n",
    "data4['Song_new_streak'] = np.where((data4['Song_days_onchart']==1)|(data4['Date_diff']>1), 1, 0)"
   ]
  },
  {
   "cell_type": "markdown",
   "metadata": {},
   "source": [
    "For each country-artist-song's consecutive streak, assign a unique id by performing a cumulative sum of the 'Song_new_streak' variable"
   ]
  },
  {
   "cell_type": "code",
   "execution_count": 36,
   "metadata": {},
   "outputs": [],
   "source": [
    "data4['Song_streak_id'] = data4.groupby(['Country', 'Artist', 'Track Name'])[['Song_new_streak']].transform('cumsum')"
   ]
  },
  {
   "cell_type": "markdown",
   "metadata": {},
   "source": [
    "For each day within a streak, assign a unique id"
   ]
  },
  {
   "cell_type": "code",
   "execution_count": 37,
   "metadata": {},
   "outputs": [],
   "source": [
    "data4['Song_consec_day'] = data4.groupby(['Country', 'Artist', 'Track Name', 'Song_streak_id']).cumcount() + 1"
   ]
  },
  {
   "cell_type": "markdown",
   "metadata": {},
   "source": [
    "Calculate the song's cumulative total number of streams and cumulative average number of streams"
   ]
  },
  {
   "cell_type": "code",
   "execution_count": 38,
   "metadata": {},
   "outputs": [],
   "source": [
    "data4['Song_cumu_streams'] = data4.groupby(['Country', 'Artist', 'Track Name'])[['Streams']].transform('cumsum')\n",
    "data4['Song_cumu_mean_streams'] = data4['Song_cumu_streams'] / data4['Song_days_onchart']"
   ]
  },
  {
   "cell_type": "markdown",
   "metadata": {},
   "source": [
    "Calculate an artist's cumulative number of songs that have appeared on the chart"
   ]
  },
  {
   "cell_type": "code",
   "execution_count": 39,
   "metadata": {},
   "outputs": [],
   "source": [
    "data5 = data4\n",
    "data5['Artist_cumsum_songs'] = data5.groupby(['Country', 'Artist'])[['Artist_new_song']].transform('cumsum')\n",
    "data5['Artist_cumu_songs'] = data5.groupby(['Country', 'Artist', 'Date'])[['Artist_cumsum_songs']].transform('max')"
   ]
  },
  {
   "cell_type": "markdown",
   "metadata": {},
   "source": [
    "Calculate an artist's cumulative number of days of appearing on the chart (not necessarily consecutively)"
   ]
  },
  {
   "cell_type": "code",
   "execution_count": 40,
   "metadata": {},
   "outputs": [
    {
     "data": {
      "text/html": [
       "<div>\n",
       "<style scoped>\n",
       "    .dataframe tbody tr th:only-of-type {\n",
       "        vertical-align: middle;\n",
       "    }\n",
       "\n",
       "    .dataframe tbody tr th {\n",
       "        vertical-align: top;\n",
       "    }\n",
       "\n",
       "    .dataframe thead th {\n",
       "        text-align: right;\n",
       "    }\n",
       "</style>\n",
       "<table border=\"1\" class=\"dataframe\">\n",
       "  <thead>\n",
       "    <tr style=\"text-align: right;\">\n",
       "      <th></th>\n",
       "      <th>Country</th>\n",
       "      <th>Artist</th>\n",
       "      <th>Date</th>\n",
       "      <th>Artist_days_onchart</th>\n",
       "    </tr>\n",
       "  </thead>\n",
       "  <tbody>\n",
       "    <tr>\n",
       "      <td>8773894</td>\n",
       "      <td>Argentina</td>\n",
       "      <td>#TocoParaVos</td>\n",
       "      <td>2017-01-01</td>\n",
       "      <td>1</td>\n",
       "    </tr>\n",
       "    <tr>\n",
       "      <td>8806453</td>\n",
       "      <td>Argentina</td>\n",
       "      <td>#TocoParaVos</td>\n",
       "      <td>2017-01-02</td>\n",
       "      <td>2</td>\n",
       "    </tr>\n",
       "    <tr>\n",
       "      <td>11463480</td>\n",
       "      <td>Argentina</td>\n",
       "      <td>#TocoParaVos</td>\n",
       "      <td>2017-01-03</td>\n",
       "      <td>3</td>\n",
       "    </tr>\n",
       "    <tr>\n",
       "      <td>7710816</td>\n",
       "      <td>Argentina</td>\n",
       "      <td>#TocoParaVos</td>\n",
       "      <td>2017-01-04</td>\n",
       "      <td>4</td>\n",
       "    </tr>\n",
       "    <tr>\n",
       "      <td>8751390</td>\n",
       "      <td>Argentina</td>\n",
       "      <td>#TocoParaVos</td>\n",
       "      <td>2017-01-05</td>\n",
       "      <td>5</td>\n",
       "    </tr>\n",
       "    <tr>\n",
       "      <td>...</td>\n",
       "      <td>...</td>\n",
       "      <td>...</td>\n",
       "      <td>...</td>\n",
       "      <td>...</td>\n",
       "    </tr>\n",
       "    <tr>\n",
       "      <td>2685112</td>\n",
       "      <td>Viet Nam</td>\n",
       "      <td>NaN</td>\n",
       "      <td>2019-08-25</td>\n",
       "      <td>874</td>\n",
       "    </tr>\n",
       "    <tr>\n",
       "      <td>2685302</td>\n",
       "      <td>Viet Nam</td>\n",
       "      <td>NaN</td>\n",
       "      <td>2019-08-26</td>\n",
       "      <td>875</td>\n",
       "    </tr>\n",
       "    <tr>\n",
       "      <td>2685507</td>\n",
       "      <td>Viet Nam</td>\n",
       "      <td>NaN</td>\n",
       "      <td>2019-08-27</td>\n",
       "      <td>876</td>\n",
       "    </tr>\n",
       "    <tr>\n",
       "      <td>2685715</td>\n",
       "      <td>Viet Nam</td>\n",
       "      <td>NaN</td>\n",
       "      <td>2019-08-28</td>\n",
       "      <td>877</td>\n",
       "    </tr>\n",
       "    <tr>\n",
       "      <td>2685987</td>\n",
       "      <td>Viet Nam</td>\n",
       "      <td>NaN</td>\n",
       "      <td>2019-08-29</td>\n",
       "      <td>878</td>\n",
       "    </tr>\n",
       "  </tbody>\n",
       "</table>\n",
       "<p>8382856 rows × 4 columns</p>\n",
       "</div>"
      ],
      "text/plain": [
       "            Country        Artist       Date  Artist_days_onchart\n",
       "8773894   Argentina  #TocoParaVos 2017-01-01                    1\n",
       "8806453   Argentina  #TocoParaVos 2017-01-02                    2\n",
       "11463480  Argentina  #TocoParaVos 2017-01-03                    3\n",
       "7710816   Argentina  #TocoParaVos 2017-01-04                    4\n",
       "8751390   Argentina  #TocoParaVos 2017-01-05                    5\n",
       "...             ...           ...        ...                  ...\n",
       "2685112    Viet Nam           NaN 2019-08-25                  874\n",
       "2685302    Viet Nam           NaN 2019-08-26                  875\n",
       "2685507    Viet Nam           NaN 2019-08-27                  876\n",
       "2685715    Viet Nam           NaN 2019-08-28                  877\n",
       "2685987    Viet Nam           NaN 2019-08-29                  878\n",
       "\n",
       "[8382856 rows x 4 columns]"
      ]
     },
     "execution_count": 40,
     "metadata": {},
     "output_type": "execute_result"
    }
   ],
   "source": [
    "artist_days = data5.loc[:, ['Country', 'Artist', 'Date']]\\\n",
    ".sort_values(by=['Country', 'Artist', 'Date'], ascending=[True,True,True]).drop_duplicates()\n",
    "artist_days['Artist_days_onchart'] = artist_days.groupby(['Country', 'Artist']).cumcount() + 1\n",
    "\n",
    "artist_days"
   ]
  },
  {
   "cell_type": "markdown",
   "metadata": {},
   "source": [
    "Calculate an artist's cumulative total number of streams and cumulative average number of streams"
   ]
  },
  {
   "cell_type": "code",
   "execution_count": 41,
   "metadata": {},
   "outputs": [],
   "source": [
    "data6 = data5.merge(artist_days, how='left', on=['Country', 'Artist', 'Date'])\n",
    "\n",
    "data6['Artist_cumsum_streams'] = data6.groupby(['Country', 'Artist'])[['Streams']].transform('cumsum')\n",
    "data6['Artist_cumu_streams'] = data6.groupby(['Country', 'Artist', 'Date'])[['Artist_cumsum_streams']].transform('max')\n",
    "\n",
    "# Needs more reflection for this variable - cumulative averages are not accurate because we only observe the song if it's in the top 200\n",
    "# if the song is not in the top 200, then the cumulative number of streams cannot be updated\n",
    "# data6['Artist_cumu_mean_streams'] = data6['Artist_cumu_streams'] / data6['Artist_days_onchart']"
   ]
  },
  {
   "cell_type": "markdown",
   "metadata": {},
   "source": [
    "Generate a unique id for each week and year-week \n",
    "(this will be used to merge with other datasets that only update on a weekly basis, e.g. Billboard)"
   ]
  },
  {
   "cell_type": "code",
   "execution_count": 42,
   "metadata": {},
   "outputs": [],
   "source": [
    "data6['Week_id'] = data6['Date'].dt.strftime('%W')\n",
    "data6['Year_week_id'] = data6['Date'].dt.strftime('%Y-%W')\n",
    "data6['Day_week'] = data6['Date'].dt.strftime('%a')\n",
    "\n",
    "# Create a separate week id to merge with Billboard data, which resets on a Tuesday instead of Monday\n",
    "data6['Week_id_BB'] = np.where(data6['Day_week'] == 'Mon', \n",
    "                               data6['Week_id'].astype(int) - 1, data6['Week_id'].astype(int))\n",
    "\n",
    "# Calculate the mean number of streams for each week id in a country\n",
    "data6['Week_mean_streams'] = data6.groupby(['Country', 'Year_week_id'])[['Streams']].transform('mean')"
   ]
  },
  {
   "cell_type": "code",
   "execution_count": 43,
   "metadata": {},
   "outputs": [
    {
     "data": {
      "text/html": [
       "<div>\n",
       "<style scoped>\n",
       "    .dataframe tbody tr th:only-of-type {\n",
       "        vertical-align: middle;\n",
       "    }\n",
       "\n",
       "    .dataframe tbody tr th {\n",
       "        vertical-align: top;\n",
       "    }\n",
       "\n",
       "    .dataframe thead th {\n",
       "        text-align: right;\n",
       "    }\n",
       "</style>\n",
       "<table border=\"1\" class=\"dataframe\">\n",
       "  <thead>\n",
       "    <tr style=\"text-align: right;\">\n",
       "      <th></th>\n",
       "      <th>Date</th>\n",
       "      <th>Track URL</th>\n",
       "      <th>Position</th>\n",
       "      <th>Track Name</th>\n",
       "      <th>Artist</th>\n",
       "      <th>Streams</th>\n",
       "      <th>Country</th>\n",
       "      <th>Track URI</th>\n",
       "      <th>Collaborator URI</th>\n",
       "      <th>No. of Collaborators</th>\n",
       "      <th>Song_min_date</th>\n",
       "      <th>Song_days_since_first</th>\n",
       "      <th>Song_days_onchart</th>\n",
       "      <th>Artist_min_date</th>\n",
       "      <th>Artist_new_song</th>\n",
       "      <th>Date_lag</th>\n",
       "      <th>Date_diff</th>\n",
       "      <th>Song_new_streak</th>\n",
       "      <th>Song_streak_id</th>\n",
       "      <th>Song_consec_day</th>\n",
       "      <th>Song_cumu_streams</th>\n",
       "      <th>Song_cumu_mean_streams</th>\n",
       "      <th>Artist_cumsum_songs</th>\n",
       "      <th>Artist_cumu_songs</th>\n",
       "      <th>Artist_days_onchart</th>\n",
       "      <th>Artist_cumsum_streams</th>\n",
       "      <th>Artist_cumu_streams</th>\n",
       "      <th>Week_id</th>\n",
       "      <th>Year_week_id</th>\n",
       "      <th>Day_week</th>\n",
       "      <th>Week_id_BB</th>\n",
       "      <th>Week_mean_streams</th>\n",
       "    </tr>\n",
       "  </thead>\n",
       "  <tbody>\n",
       "    <tr>\n",
       "      <td>0</td>\n",
       "      <td>2017-01-01</td>\n",
       "      <td>https://open.spotify.com/track/1A3yLIqelu1D7MC...</td>\n",
       "      <td>67</td>\n",
       "      <td>Hasta la luna</td>\n",
       "      <td>#TocoParaVos</td>\n",
       "      <td>35806</td>\n",
       "      <td>Argentina</td>\n",
       "      <td>NaN</td>\n",
       "      <td>NaN</td>\n",
       "      <td>NaN</td>\n",
       "      <td>2017-01-01</td>\n",
       "      <td>0.0</td>\n",
       "      <td>1</td>\n",
       "      <td>2017-01-01</td>\n",
       "      <td>1</td>\n",
       "      <td>NaT</td>\n",
       "      <td>NaN</td>\n",
       "      <td>1</td>\n",
       "      <td>1</td>\n",
       "      <td>1</td>\n",
       "      <td>35806</td>\n",
       "      <td>35806.0</td>\n",
       "      <td>1</td>\n",
       "      <td>3.0</td>\n",
       "      <td>1</td>\n",
       "      <td>35806</td>\n",
       "      <td>71311.0</td>\n",
       "      <td>00</td>\n",
       "      <td>2017-00</td>\n",
       "      <td>Sun</td>\n",
       "      <td>0</td>\n",
       "      <td>39444.360000</td>\n",
       "    </tr>\n",
       "    <tr>\n",
       "      <td>1</td>\n",
       "      <td>2017-01-01</td>\n",
       "      <td>https://open.spotify.com/track/7kK1cPOZ9RxZcga...</td>\n",
       "      <td>196</td>\n",
       "      <td>Sólo necesito</td>\n",
       "      <td>#TocoParaVos</td>\n",
       "      <td>14397</td>\n",
       "      <td>Argentina</td>\n",
       "      <td>NaN</td>\n",
       "      <td>NaN</td>\n",
       "      <td>NaN</td>\n",
       "      <td>2017-01-01</td>\n",
       "      <td>0.0</td>\n",
       "      <td>1</td>\n",
       "      <td>2017-01-01</td>\n",
       "      <td>1</td>\n",
       "      <td>NaT</td>\n",
       "      <td>NaN</td>\n",
       "      <td>1</td>\n",
       "      <td>1</td>\n",
       "      <td>1</td>\n",
       "      <td>14397</td>\n",
       "      <td>14397.0</td>\n",
       "      <td>2</td>\n",
       "      <td>3.0</td>\n",
       "      <td>1</td>\n",
       "      <td>50203</td>\n",
       "      <td>71311.0</td>\n",
       "      <td>00</td>\n",
       "      <td>2017-00</td>\n",
       "      <td>Sun</td>\n",
       "      <td>0</td>\n",
       "      <td>39444.360000</td>\n",
       "    </tr>\n",
       "    <tr>\n",
       "      <td>2</td>\n",
       "      <td>2017-01-01</td>\n",
       "      <td>https://open.spotify.com/track/6Ol4gn2vFyn4dck...</td>\n",
       "      <td>117</td>\n",
       "      <td>Una historia</td>\n",
       "      <td>#TocoParaVos</td>\n",
       "      <td>21108</td>\n",
       "      <td>Argentina</td>\n",
       "      <td>NaN</td>\n",
       "      <td>NaN</td>\n",
       "      <td>NaN</td>\n",
       "      <td>2017-01-01</td>\n",
       "      <td>0.0</td>\n",
       "      <td>1</td>\n",
       "      <td>2017-01-01</td>\n",
       "      <td>1</td>\n",
       "      <td>NaT</td>\n",
       "      <td>NaN</td>\n",
       "      <td>1</td>\n",
       "      <td>1</td>\n",
       "      <td>1</td>\n",
       "      <td>21108</td>\n",
       "      <td>21108.0</td>\n",
       "      <td>3</td>\n",
       "      <td>3.0</td>\n",
       "      <td>1</td>\n",
       "      <td>71311</td>\n",
       "      <td>71311.0</td>\n",
       "      <td>00</td>\n",
       "      <td>2017-00</td>\n",
       "      <td>Sun</td>\n",
       "      <td>0</td>\n",
       "      <td>39444.360000</td>\n",
       "    </tr>\n",
       "    <tr>\n",
       "      <td>3</td>\n",
       "      <td>2017-01-02</td>\n",
       "      <td>https://open.spotify.com/track/1A3yLIqelu1D7MC...</td>\n",
       "      <td>110</td>\n",
       "      <td>Hasta la luna</td>\n",
       "      <td>#TocoParaVos</td>\n",
       "      <td>17585</td>\n",
       "      <td>Argentina</td>\n",
       "      <td>NaN</td>\n",
       "      <td>NaN</td>\n",
       "      <td>NaN</td>\n",
       "      <td>2017-01-01</td>\n",
       "      <td>1.0</td>\n",
       "      <td>2</td>\n",
       "      <td>2017-01-01</td>\n",
       "      <td>0</td>\n",
       "      <td>2017-01-01</td>\n",
       "      <td>1.0</td>\n",
       "      <td>0</td>\n",
       "      <td>1</td>\n",
       "      <td>2</td>\n",
       "      <td>53391</td>\n",
       "      <td>26695.5</td>\n",
       "      <td>3</td>\n",
       "      <td>3.0</td>\n",
       "      <td>2</td>\n",
       "      <td>88896</td>\n",
       "      <td>100234.0</td>\n",
       "      <td>01</td>\n",
       "      <td>2017-01</td>\n",
       "      <td>Mon</td>\n",
       "      <td>0</td>\n",
       "      <td>30851.670714</td>\n",
       "    </tr>\n",
       "    <tr>\n",
       "      <td>4</td>\n",
       "      <td>2017-01-02</td>\n",
       "      <td>https://open.spotify.com/track/6Ol4gn2vFyn4dck...</td>\n",
       "      <td>194</td>\n",
       "      <td>Una historia</td>\n",
       "      <td>#TocoParaVos</td>\n",
       "      <td>11338</td>\n",
       "      <td>Argentina</td>\n",
       "      <td>NaN</td>\n",
       "      <td>NaN</td>\n",
       "      <td>NaN</td>\n",
       "      <td>2017-01-01</td>\n",
       "      <td>1.0</td>\n",
       "      <td>2</td>\n",
       "      <td>2017-01-01</td>\n",
       "      <td>0</td>\n",
       "      <td>2017-01-01</td>\n",
       "      <td>1.0</td>\n",
       "      <td>0</td>\n",
       "      <td>1</td>\n",
       "      <td>2</td>\n",
       "      <td>32446</td>\n",
       "      <td>16223.0</td>\n",
       "      <td>3</td>\n",
       "      <td>3.0</td>\n",
       "      <td>2</td>\n",
       "      <td>100234</td>\n",
       "      <td>100234.0</td>\n",
       "      <td>01</td>\n",
       "      <td>2017-01</td>\n",
       "      <td>Mon</td>\n",
       "      <td>0</td>\n",
       "      <td>30851.670714</td>\n",
       "    </tr>\n",
       "  </tbody>\n",
       "</table>\n",
       "</div>"
      ],
      "text/plain": [
       "        Date                                          Track URL  Position  \\\n",
       "0 2017-01-01  https://open.spotify.com/track/1A3yLIqelu1D7MC...        67   \n",
       "1 2017-01-01  https://open.spotify.com/track/7kK1cPOZ9RxZcga...       196   \n",
       "2 2017-01-01  https://open.spotify.com/track/6Ol4gn2vFyn4dck...       117   \n",
       "3 2017-01-02  https://open.spotify.com/track/1A3yLIqelu1D7MC...       110   \n",
       "4 2017-01-02  https://open.spotify.com/track/6Ol4gn2vFyn4dck...       194   \n",
       "\n",
       "      Track Name        Artist  Streams    Country Track URI Collaborator URI  \\\n",
       "0  Hasta la luna  #TocoParaVos    35806  Argentina       NaN              NaN   \n",
       "1  Sólo necesito  #TocoParaVos    14397  Argentina       NaN              NaN   \n",
       "2   Una historia  #TocoParaVos    21108  Argentina       NaN              NaN   \n",
       "3  Hasta la luna  #TocoParaVos    17585  Argentina       NaN              NaN   \n",
       "4   Una historia  #TocoParaVos    11338  Argentina       NaN              NaN   \n",
       "\n",
       "   No. of Collaborators Song_min_date  Song_days_since_first  \\\n",
       "0                   NaN    2017-01-01                    0.0   \n",
       "1                   NaN    2017-01-01                    0.0   \n",
       "2                   NaN    2017-01-01                    0.0   \n",
       "3                   NaN    2017-01-01                    1.0   \n",
       "4                   NaN    2017-01-01                    1.0   \n",
       "\n",
       "   Song_days_onchart Artist_min_date  Artist_new_song   Date_lag  Date_diff  \\\n",
       "0                  1      2017-01-01                1        NaT        NaN   \n",
       "1                  1      2017-01-01                1        NaT        NaN   \n",
       "2                  1      2017-01-01                1        NaT        NaN   \n",
       "3                  2      2017-01-01                0 2017-01-01        1.0   \n",
       "4                  2      2017-01-01                0 2017-01-01        1.0   \n",
       "\n",
       "   Song_new_streak  Song_streak_id  Song_consec_day  Song_cumu_streams  \\\n",
       "0                1               1                1              35806   \n",
       "1                1               1                1              14397   \n",
       "2                1               1                1              21108   \n",
       "3                0               1                2              53391   \n",
       "4                0               1                2              32446   \n",
       "\n",
       "   Song_cumu_mean_streams  Artist_cumsum_songs  Artist_cumu_songs  \\\n",
       "0                 35806.0                    1                3.0   \n",
       "1                 14397.0                    2                3.0   \n",
       "2                 21108.0                    3                3.0   \n",
       "3                 26695.5                    3                3.0   \n",
       "4                 16223.0                    3                3.0   \n",
       "\n",
       "   Artist_days_onchart  Artist_cumsum_streams  Artist_cumu_streams Week_id  \\\n",
       "0                    1                  35806              71311.0      00   \n",
       "1                    1                  50203              71311.0      00   \n",
       "2                    1                  71311              71311.0      00   \n",
       "3                    2                  88896             100234.0      01   \n",
       "4                    2                 100234             100234.0      01   \n",
       "\n",
       "  Year_week_id Day_week  Week_id_BB  Week_mean_streams  \n",
       "0      2017-00      Sun           0       39444.360000  \n",
       "1      2017-00      Sun           0       39444.360000  \n",
       "2      2017-00      Sun           0       39444.360000  \n",
       "3      2017-01      Mon           0       30851.670714  \n",
       "4      2017-01      Mon           0       30851.670714  "
      ]
     },
     "execution_count": 43,
     "metadata": {},
     "output_type": "execute_result"
    }
   ],
   "source": [
    "data6.head()"
   ]
  },
  {
   "cell_type": "code",
   "execution_count": 66,
   "metadata": {},
   "outputs": [],
   "source": [
    "# data7 = data6[data6['No. of Collaborators'].notna()]\n",
    "# data7 = data6.merge(data_top200_reduced, how='inner', \n",
    "#                     on=['Date', 'Track URL', 'Position', 'Track Name', \n",
    "#                         'Artist', 'Streams', 'Country', \n",
    "#                         'Track URI', 'Collaborator URI', 'No. of Collaborators'])\n",
    "data7 = data6[data6['No. of Collaborators'].notna()]\n",
    "# data7.head()"
   ]
  },
  {
   "cell_type": "code",
   "execution_count": 58,
   "metadata": {},
   "outputs": [
    {
     "data": {
      "text/plain": [
       "0"
      ]
     },
     "execution_count": 58,
     "metadata": {},
     "output_type": "execute_result"
    }
   ],
   "source": [
    "len(data7[data7['No. of Collaborators'].isna()])"
   ]
  },
  {
   "cell_type": "code",
   "execution_count": 67,
   "metadata": {},
   "outputs": [
    {
     "data": {
      "text/plain": [
       "0"
      ]
     },
     "execution_count": 67,
     "metadata": {},
     "output_type": "execute_result"
    }
   ],
   "source": [
    "len(data7[data7.duplicated()])"
   ]
  },
  {
   "cell_type": "code",
   "execution_count": 73,
   "metadata": {},
   "outputs": [
    {
     "name": "stderr",
     "output_type": "stream",
     "text": [
      "/Users/minhhoang/opt/anaconda3/lib/python3.7/site-packages/ipykernel_launcher.py:1: SettingWithCopyWarning: \n",
      "A value is trying to be set on a copy of a slice from a DataFrame.\n",
      "Try using .loc[row_indexer,col_indexer] = value instead\n",
      "\n",
      "See the caveats in the documentation: http://pandas.pydata.org/pandas-docs/stable/user_guide/indexing.html#returning-a-view-versus-a-copy\n",
      "  \"\"\"Entry point for launching an IPython kernel.\n"
     ]
    },
    {
     "data": {
      "text/plain": [
       "array([2017, 2019, 2020, 2018])"
      ]
     },
     "execution_count": 73,
     "metadata": {},
     "output_type": "execute_result"
    }
   ],
   "source": [
    "data7['Year'] = data7['Date'].dt.strftime('%Y').astype(int)\n",
    "data7['Year'].unique()"
   ]
  },
  {
   "cell_type": "code",
   "execution_count": 68,
   "metadata": {},
   "outputs": [],
   "source": [
    "data8 = data7[data7['Country'] == 'United States']"
   ]
  },
  {
   "cell_type": "code",
   "execution_count": 51,
   "metadata": {},
   "outputs": [
    {
     "name": "stdout",
     "output_type": "stream",
     "text": [
      "14249658\n",
      "6581714\n",
      "14249658\n",
      "14249658\n",
      "14249658\n",
      "14249658\n",
      "14249658\n",
      "14249658\n",
      "14249658\n",
      "6457503\n"
     ]
    }
   ],
   "source": [
    "print(len(data_top200.drop_duplicates().index))\n",
    "print(len(data_top200_reduced.index))\n",
    "print(len(data_top200_augment.index))"
   ]
  },
  {
   "cell_type": "code",
   "execution_count": 63,
   "metadata": {},
   "outputs": [
    {
     "name": "stdout",
     "output_type": "stream",
     "text": [
      "14249658\n",
      "14249658\n",
      "14249658\n",
      "14249658\n",
      "14249658\n",
      "14249658\n",
      "6581714\n",
      "155545\n"
     ]
    }
   ],
   "source": [
    "print(len(data1.index))\n",
    "print(len(data2.index))\n",
    "print(len(data3.index))\n",
    "print(len(data4.index))\n",
    "print(len(data5.index))\n",
    "print(len(data6.index))\n",
    "print(len(data7.index))\n",
    "print(len(data8.index))"
   ]
  },
  {
   "cell_type": "code",
   "execution_count": null,
   "metadata": {},
   "outputs": [],
   "source": [
    "# data6.loc[(data6['Artist']=='Drake') &\n",
    "#           (data6['Country']=='United States') &\n",
    "#           (data6['Track Name']=='One Dance')\n",
    "#           ,:]\\\n",
    "# .drop(['Track URL'], axis=1).head()"
   ]
  },
  {
   "cell_type": "code",
   "execution_count": 65,
   "metadata": {},
   "outputs": [],
   "source": [
    "# data6.loc[(data6['Artist']=='Drake') &\n",
    "#           (data6['Country']=='United States')\n",
    "#           ,:]\\\n",
    "# .drop(['Track URL'], axis=1).head(25)"
   ]
  },
  {
   "cell_type": "code",
   "execution_count": null,
   "metadata": {},
   "outputs": [],
   "source": [
    "# data6.to_csv('2020.12.14 top200_clean.csv')"
   ]
  },
  {
   "cell_type": "code",
   "execution_count": 70,
   "metadata": {},
   "outputs": [],
   "source": [
    "data7.to_csv('2020.12.15 top200_reduced_fe.csv', index=False)"
   ]
  },
  {
   "cell_type": "code",
   "execution_count": 69,
   "metadata": {},
   "outputs": [],
   "source": [
    "data8.to_csv('2020.12.15 top200_reduced_fe_usa.csv', index=False)"
   ]
  },
  {
   "cell_type": "code",
   "execution_count": null,
   "metadata": {},
   "outputs": [],
   "source": [
    "# data6[data6['Country']=='United States'].to_csv('2020.12.14 top200_usa_clean.csv')"
   ]
  },
  {
   "cell_type": "code",
   "execution_count": null,
   "metadata": {},
   "outputs": [],
   "source": []
  }
 ],
 "metadata": {
  "kernelspec": {
   "display_name": "Python 3",
   "language": "python",
   "name": "python3"
  },
  "language_info": {
   "codemirror_mode": {
    "name": "ipython",
    "version": 3
   },
   "file_extension": ".py",
   "mimetype": "text/x-python",
   "name": "python",
   "nbconvert_exporter": "python",
   "pygments_lexer": "ipython3",
   "version": "3.7.4"
  },
  "varInspector": {
   "cols": {
    "lenName": 16,
    "lenType": 16,
    "lenVar": 40
   },
   "kernels_config": {
    "python": {
     "delete_cmd_postfix": "",
     "delete_cmd_prefix": "del ",
     "library": "var_list.py",
     "varRefreshCmd": "print(var_dic_list())"
    },
    "r": {
     "delete_cmd_postfix": ") ",
     "delete_cmd_prefix": "rm(",
     "library": "var_list.r",
     "varRefreshCmd": "cat(var_dic_list()) "
    }
   },
   "types_to_exclude": [
    "module",
    "function",
    "builtin_function_or_method",
    "instance",
    "_Feature"
   ],
   "window_display": false
  }
 },
 "nbformat": 4,
 "nbformat_minor": 2
}
