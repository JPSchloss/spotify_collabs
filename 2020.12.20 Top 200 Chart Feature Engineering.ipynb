{
 "cells": [
  {
   "cell_type": "code",
   "execution_count": 1,
   "metadata": {},
   "outputs": [],
   "source": [
    "import pandas as pd\n",
    "import os\n",
    "import re\n",
    "import numpy as np\n",
    "\n",
    "from IPython.display import display\n",
    "pd.options.display.max_columns = None"
   ]
  },
  {
   "cell_type": "markdown",
   "metadata": {},
   "source": [
    "### Import Top 200 Chart data"
   ]
  },
  {
   "cell_type": "code",
   "execution_count": 2,
   "metadata": {},
   "outputs": [],
   "source": [
    "# path = '/home/jovyan/work/Documents/Correlation One/spotipy/'\n",
    "path = r'/Users/minhhoang/Documents/Correlation One/spotipy'\n",
    "path_input = os.path.join(path, 'input')"
   ]
  },
  {
   "cell_type": "code",
   "execution_count": 3,
   "metadata": {},
   "outputs": [],
   "source": [
    "# Import check point 1 (dataset includes all songs on charts regardless of collaboration, but does not have no. of colalborators)\n",
    "data_top200 = pd.read_csv(os.path.join(path_input, 'spotify_top200.csv'))\n",
    "\n",
    "# Import checkpoint 2 (dataset only includes songs with at least 2 collaborators)\n",
    "data_top200_reduced = pd.read_csv(os.path.join(path_input, 'spotify_top200_reduced.csv'))\\\n",
    ".drop(columns = ['Unnamed: 0'])"
   ]
  },
  {
   "cell_type": "code",
   "execution_count": 4,
   "metadata": {},
   "outputs": [],
   "source": [
    "data_top200_augment = data_top200.drop_duplicates()\\\n",
    ".merge(data_top200_reduced.drop_duplicates(), how='left', \n",
    "                            on=['Date', 'Track URL', 'Position', 'Track Name', \n",
    "                                'Artist', 'Streams', 'Country'])\\\n",
    ".drop_duplicates()\n",
    "\n",
    "# Brunnell's input data has duplicated rows for US, UK and Global"
   ]
  },
  {
   "cell_type": "code",
   "execution_count": 6,
   "metadata": {},
   "outputs": [
    {
     "name": "stdout",
     "output_type": "stream",
     "text": [
      "14546258\n",
      "14249658\n",
      "6581714\n",
      "6457503\n"
     ]
    }
   ],
   "source": [
    "print(len(data_top200.index))\n",
    "print(len(data_top200.drop_duplicates().index))\n",
    "\n",
    "print(len(data_top200_reduced.index))\n",
    "print(len(data_top200_reduced.drop_duplicates().index))"
   ]
  },
  {
   "cell_type": "code",
   "execution_count": 7,
   "metadata": {},
   "outputs": [
    {
     "name": "stdout",
     "output_type": "stream",
     "text": [
      "14249658\n"
     ]
    }
   ],
   "source": [
    "print(len(data_top200_augment.index))"
   ]
  },
  {
   "cell_type": "code",
   "execution_count": 8,
   "metadata": {},
   "outputs": [],
   "source": [
    "data_top200_augment['Country'] = data_top200_augment['Country'].apply(lambda x: 'Viet Nam' if x == 'Viet Name' else x) \n",
    "data_top200_augment['Date'] = pd.to_datetime(data_top200_augment['Date'])\n",
    "data_top200_augment['Year'] = data_top200_augment['Date'].dt.strftime('%Y')"
   ]
  },
  {
   "cell_type": "code",
   "execution_count": 9,
   "metadata": {},
   "outputs": [],
   "source": [
    "data2 = data_top200_augment.sort_values(by=['Country', 'Artist', 'Date', 'Track Name'], ascending=[True,True,True,True])"
   ]
  },
  {
   "cell_type": "markdown",
   "metadata": {},
   "source": [
    "### Generate new variables"
   ]
  },
  {
   "cell_type": "markdown",
   "metadata": {},
   "source": [
    "Calculate a song's earliest appearance on the chart"
   ]
  },
  {
   "cell_type": "code",
   "execution_count": 10,
   "metadata": {},
   "outputs": [],
   "source": [
    "data3 = data2\n",
    "data3['Song_min_date'] = data3.groupby(['Country', 'Artist', 'Track Name'])[['Date']].transform('min')"
   ]
  },
  {
   "cell_type": "markdown",
   "metadata": {},
   "source": [
    "Calculate the number of days between the current chart day and the song's first day on the chart "
   ]
  },
  {
   "cell_type": "code",
   "execution_count": 11,
   "metadata": {},
   "outputs": [],
   "source": [
    "data3['Song_days_since_first'] = data3['Date'] - data3['Song_min_date']\n",
    "data3['Song_days_since_first'] = data3['Song_days_since_first'].apply(lambda x: x.days)"
   ]
  },
  {
   "cell_type": "markdown",
   "metadata": {},
   "source": [
    "Calculate the actual number of days that the song has appeared on the chart "
   ]
  },
  {
   "cell_type": "code",
   "execution_count": 12,
   "metadata": {},
   "outputs": [],
   "source": [
    "data3['Song_days_onchart'] = data3.groupby(['Country', 'Artist', 'Track Name']).cumcount() + 1\n",
    "# The two previous variables are similar, but may differ if the song temporarily goes off the chart and gets back on at a later date"
   ]
  },
  {
   "cell_type": "markdown",
   "metadata": {},
   "source": [
    "Identify the first time an artist appears on the Top 200 chart (in a country)\n",
    "This needs to be run with the complete dataset, not just on songs with collaboration"
   ]
  },
  {
   "cell_type": "code",
   "execution_count": 13,
   "metadata": {},
   "outputs": [],
   "source": [
    "data3['Artist_min_date'] = data3.groupby(['Country', 'Artist'])[['Date']].transform('min')"
   ]
  },
  {
   "cell_type": "markdown",
   "metadata": {},
   "source": [
    "Generate a dummy variable that = 1 if this is the first time a song appears"
   ]
  },
  {
   "cell_type": "code",
   "execution_count": 14,
   "metadata": {},
   "outputs": [],
   "source": [
    "data3['Artist_new_song'] = np.where(data3['Song_days_onchart']==1, 1, 0)"
   ]
  },
  {
   "cell_type": "markdown",
   "metadata": {},
   "source": [
    "Calculate the number of days elapsed between a song's current appearance and its last appearance\n",
    "If Date_diff = 1, then the song appeared yesterday and today."
   ]
  },
  {
   "cell_type": "code",
   "execution_count": 15,
   "metadata": {},
   "outputs": [],
   "source": [
    "data3['Date_lag'] =  data3.groupby(['Country', 'Artist', 'Track Name'])[['Date']].shift(1)\n",
    "data3['Date_diff'] = data3['Date'] - data3['Date_lag']\n",
    "data3['Date_diff'] = data3['Date_diff'].apply(lambda x: x.days)"
   ]
  },
  {
   "cell_type": "markdown",
   "metadata": {},
   "source": [
    "When Date_diff is > 1 , we assume that the song has temporarily dropped off the chart (hence ending its last consecutive streak),\n",
    "so we create a binary variable \"Song_new_streak\" that signals the beginnning of a new streak"
   ]
  },
  {
   "cell_type": "code",
   "execution_count": 16,
   "metadata": {},
   "outputs": [],
   "source": [
    "data4 = data3\n",
    "data4['Song_new_streak'] = np.where((data4['Song_days_onchart']==1)|(data4['Date_diff']>1), 1, 0)"
   ]
  },
  {
   "cell_type": "markdown",
   "metadata": {},
   "source": [
    "For each country-artist-song's consecutive streak, assign a unique id by performing a cumulative sum of the 'Song_new_streak' variable"
   ]
  },
  {
   "cell_type": "code",
   "execution_count": 17,
   "metadata": {},
   "outputs": [],
   "source": [
    "data4['Song_streak_id'] = data4.groupby(['Country', 'Artist', 'Track Name'])[['Song_new_streak']].transform('cumsum')"
   ]
  },
  {
   "cell_type": "markdown",
   "metadata": {},
   "source": [
    "For each day within a streak, assign a unique id"
   ]
  },
  {
   "cell_type": "code",
   "execution_count": 18,
   "metadata": {},
   "outputs": [],
   "source": [
    "data4['Song_consec_day'] = data4.groupby(['Country', 'Artist', 'Track Name', 'Song_streak_id']).cumcount() + 1"
   ]
  },
  {
   "cell_type": "markdown",
   "metadata": {},
   "source": [
    "Calculate the song's cumulative total number of streams and cumulative average number of streams"
   ]
  },
  {
   "cell_type": "code",
   "execution_count": 19,
   "metadata": {},
   "outputs": [],
   "source": [
    "data4['Song_cumu_streams'] = data4.groupby(['Country', 'Artist', 'Track Name'])[['Streams']].transform('cumsum')\n",
    "data4['Song_cumu_mean_streams'] = data4['Song_cumu_streams'] / data4['Song_days_onchart']"
   ]
  },
  {
   "cell_type": "markdown",
   "metadata": {},
   "source": [
    "Calculate an artist's cumulative number of songs that have appeared on the chart"
   ]
  },
  {
   "cell_type": "code",
   "execution_count": 20,
   "metadata": {},
   "outputs": [],
   "source": [
    "data5 = data4\n",
    "data5['Artist_cumsum_songs'] = data5.groupby(['Country', 'Artist'])[['Artist_new_song']].transform('cumsum')\n",
    "data5['Artist_cumu_songs'] = data5.groupby(['Country', 'Artist', 'Date'])[['Artist_cumsum_songs']].transform('max')"
   ]
  },
  {
   "cell_type": "markdown",
   "metadata": {},
   "source": [
    "Calculate an artist's cumulative number of days of appearing on the chart (not necessarily consecutively)"
   ]
  },
  {
   "cell_type": "code",
   "execution_count": 21,
   "metadata": {},
   "outputs": [
    {
     "data": {
      "text/html": [
       "<div>\n",
       "<style scoped>\n",
       "    .dataframe tbody tr th:only-of-type {\n",
       "        vertical-align: middle;\n",
       "    }\n",
       "\n",
       "    .dataframe tbody tr th {\n",
       "        vertical-align: top;\n",
       "    }\n",
       "\n",
       "    .dataframe thead th {\n",
       "        text-align: right;\n",
       "    }\n",
       "</style>\n",
       "<table border=\"1\" class=\"dataframe\">\n",
       "  <thead>\n",
       "    <tr style=\"text-align: right;\">\n",
       "      <th></th>\n",
       "      <th>Country</th>\n",
       "      <th>Artist</th>\n",
       "      <th>Date</th>\n",
       "      <th>Artist_days_onchart</th>\n",
       "    </tr>\n",
       "  </thead>\n",
       "  <tbody>\n",
       "    <tr>\n",
       "      <td>8773894</td>\n",
       "      <td>Argentina</td>\n",
       "      <td>#TocoParaVos</td>\n",
       "      <td>2017-01-01</td>\n",
       "      <td>1</td>\n",
       "    </tr>\n",
       "    <tr>\n",
       "      <td>8806453</td>\n",
       "      <td>Argentina</td>\n",
       "      <td>#TocoParaVos</td>\n",
       "      <td>2017-01-02</td>\n",
       "      <td>2</td>\n",
       "    </tr>\n",
       "    <tr>\n",
       "      <td>11463480</td>\n",
       "      <td>Argentina</td>\n",
       "      <td>#TocoParaVos</td>\n",
       "      <td>2017-01-03</td>\n",
       "      <td>3</td>\n",
       "    </tr>\n",
       "    <tr>\n",
       "      <td>7710816</td>\n",
       "      <td>Argentina</td>\n",
       "      <td>#TocoParaVos</td>\n",
       "      <td>2017-01-04</td>\n",
       "      <td>4</td>\n",
       "    </tr>\n",
       "    <tr>\n",
       "      <td>8751390</td>\n",
       "      <td>Argentina</td>\n",
       "      <td>#TocoParaVos</td>\n",
       "      <td>2017-01-05</td>\n",
       "      <td>5</td>\n",
       "    </tr>\n",
       "    <tr>\n",
       "      <td>...</td>\n",
       "      <td>...</td>\n",
       "      <td>...</td>\n",
       "      <td>...</td>\n",
       "      <td>...</td>\n",
       "    </tr>\n",
       "    <tr>\n",
       "      <td>2685112</td>\n",
       "      <td>Viet Nam</td>\n",
       "      <td>NaN</td>\n",
       "      <td>2019-08-25</td>\n",
       "      <td>874</td>\n",
       "    </tr>\n",
       "    <tr>\n",
       "      <td>2685302</td>\n",
       "      <td>Viet Nam</td>\n",
       "      <td>NaN</td>\n",
       "      <td>2019-08-26</td>\n",
       "      <td>875</td>\n",
       "    </tr>\n",
       "    <tr>\n",
       "      <td>2685507</td>\n",
       "      <td>Viet Nam</td>\n",
       "      <td>NaN</td>\n",
       "      <td>2019-08-27</td>\n",
       "      <td>876</td>\n",
       "    </tr>\n",
       "    <tr>\n",
       "      <td>2685715</td>\n",
       "      <td>Viet Nam</td>\n",
       "      <td>NaN</td>\n",
       "      <td>2019-08-28</td>\n",
       "      <td>877</td>\n",
       "    </tr>\n",
       "    <tr>\n",
       "      <td>2685987</td>\n",
       "      <td>Viet Nam</td>\n",
       "      <td>NaN</td>\n",
       "      <td>2019-08-29</td>\n",
       "      <td>878</td>\n",
       "    </tr>\n",
       "  </tbody>\n",
       "</table>\n",
       "<p>8382856 rows × 4 columns</p>\n",
       "</div>"
      ],
      "text/plain": [
       "            Country        Artist       Date  Artist_days_onchart\n",
       "8773894   Argentina  #TocoParaVos 2017-01-01                    1\n",
       "8806453   Argentina  #TocoParaVos 2017-01-02                    2\n",
       "11463480  Argentina  #TocoParaVos 2017-01-03                    3\n",
       "7710816   Argentina  #TocoParaVos 2017-01-04                    4\n",
       "8751390   Argentina  #TocoParaVos 2017-01-05                    5\n",
       "...             ...           ...        ...                  ...\n",
       "2685112    Viet Nam           NaN 2019-08-25                  874\n",
       "2685302    Viet Nam           NaN 2019-08-26                  875\n",
       "2685507    Viet Nam           NaN 2019-08-27                  876\n",
       "2685715    Viet Nam           NaN 2019-08-28                  877\n",
       "2685987    Viet Nam           NaN 2019-08-29                  878\n",
       "\n",
       "[8382856 rows x 4 columns]"
      ]
     },
     "execution_count": 21,
     "metadata": {},
     "output_type": "execute_result"
    }
   ],
   "source": [
    "artist_days = data5.loc[:, ['Country', 'Artist', 'Date']]\\\n",
    ".sort_values(by=['Country', 'Artist', 'Date'], ascending=[True,True,True]).drop_duplicates()\n",
    "artist_days['Artist_days_onchart'] = artist_days.groupby(['Country', 'Artist']).cumcount() + 1\n",
    "\n",
    "artist_days"
   ]
  },
  {
   "cell_type": "markdown",
   "metadata": {},
   "source": [
    "Calculate an artist's cumulative total number of streams and cumulative average number of streams"
   ]
  },
  {
   "cell_type": "code",
   "execution_count": 22,
   "metadata": {},
   "outputs": [],
   "source": [
    "data6 = data5.merge(artist_days, how='left', on=['Country', 'Artist', 'Date'])\n",
    "\n",
    "data6['Artist_cumsum_streams'] = data6.groupby(['Country', 'Artist'])[['Streams']].transform('cumsum')\n",
    "data6['Artist_cumu_streams'] = data6.groupby(['Country', 'Artist', 'Date'])[['Artist_cumsum_streams']].transform('max')\n",
    "\n",
    "# Needs more reflection for this variable - cumulative averages are not accurate because we only observe the song if it's in the top 200\n",
    "# if the song is not in the top 200, then the cumulative number of streams cannot be updated\n",
    "# data6['Artist_cumu_mean_streams'] = data6['Artist_cumu_streams'] / data6['Artist_days_onchart']"
   ]
  },
  {
   "cell_type": "markdown",
   "metadata": {},
   "source": [
    "Generate a unique id for each week and year-week \n",
    "(this will be used to merge with other datasets that only update on a weekly basis, e.g. Billboard)"
   ]
  },
  {
   "cell_type": "code",
   "execution_count": 23,
   "metadata": {},
   "outputs": [],
   "source": [
    "data6['Week_id'] = data6['Date'].dt.strftime('%W')\n",
    "data6['Year_week_id'] = data6['Date'].dt.strftime('%Y-%W')\n",
    "data6['Day_week'] = data6['Date'].dt.strftime('%a')\n",
    "\n",
    "# Create a separate week id to merge with Billboard data, which resets on a Tuesday instead of Monday\n",
    "data6['Week_id_BB'] = np.where(data6['Day_week'] == 'Mon', \n",
    "                               data6['Week_id'].astype(int) - 1, data6['Week_id'].astype(int))\n",
    "\n",
    "# Calculate the mean number of streams for each week id in a country\n",
    "data6['Week_mean_streams'] = data6.groupby(['Country', 'Year_week_id'])[['Streams']].transform('mean')"
   ]
  },
  {
   "cell_type": "code",
   "execution_count": null,
   "metadata": {},
   "outputs": [],
   "source": [
    "data6.head()"
   ]
  },
  {
   "cell_type": "code",
   "execution_count": 24,
   "metadata": {},
   "outputs": [],
   "source": [
    "data7 = data6[data6['No. of Collaborators'].notna()]"
   ]
  },
  {
   "cell_type": "code",
   "execution_count": 27,
   "metadata": {},
   "outputs": [
    {
     "name": "stdout",
     "output_type": "stream",
     "text": [
      "0\n",
      "0\n"
     ]
    }
   ],
   "source": [
    "print(len(data7[data7['No. of Collaborators'].isna()]))\n",
    "print(len(data7[data7.duplicated()]))\n",
    "print(data7['Year'].unique())"
   ]
  },
  {
   "cell_type": "code",
   "execution_count": 29,
   "metadata": {},
   "outputs": [],
   "source": [
    "data8 = data7[data7['Country'] == 'United States']"
   ]
  },
  {
   "cell_type": "code",
   "execution_count": 31,
   "metadata": {},
   "outputs": [
    {
     "name": "stdout",
     "output_type": "stream",
     "text": [
      "14249658\n",
      "14249658\n",
      "14249658\n",
      "14249658\n",
      "14249658\n",
      "6457503\n",
      "116428\n"
     ]
    }
   ],
   "source": [
    "print(len(data2.index))\n",
    "print(len(data3.index))\n",
    "print(len(data4.index))\n",
    "print(len(data5.index))\n",
    "print(len(data6.index))\n",
    "print(len(data7.index))\n",
    "print(len(data8.index))"
   ]
  },
  {
   "cell_type": "code",
   "execution_count": 34,
   "metadata": {},
   "outputs": [
    {
     "data": {
      "text/html": [
       "<div>\n",
       "<style scoped>\n",
       "    .dataframe tbody tr th:only-of-type {\n",
       "        vertical-align: middle;\n",
       "    }\n",
       "\n",
       "    .dataframe tbody tr th {\n",
       "        vertical-align: top;\n",
       "    }\n",
       "\n",
       "    .dataframe thead th {\n",
       "        text-align: right;\n",
       "    }\n",
       "</style>\n",
       "<table border=\"1\" class=\"dataframe\">\n",
       "  <thead>\n",
       "    <tr style=\"text-align: right;\">\n",
       "      <th></th>\n",
       "      <th>Date</th>\n",
       "      <th>Position</th>\n",
       "      <th>Track Name</th>\n",
       "      <th>Artist</th>\n",
       "      <th>Streams</th>\n",
       "      <th>Country</th>\n",
       "      <th>No. of Collaborators</th>\n",
       "      <th>Year</th>\n",
       "      <th>Song_min_date</th>\n",
       "      <th>Song_days_since_first</th>\n",
       "      <th>Song_days_onchart</th>\n",
       "      <th>Artist_min_date</th>\n",
       "      <th>Artist_new_song</th>\n",
       "      <th>Date_lag</th>\n",
       "      <th>Date_diff</th>\n",
       "      <th>Song_new_streak</th>\n",
       "      <th>Song_streak_id</th>\n",
       "      <th>Song_consec_day</th>\n",
       "      <th>Song_cumu_streams</th>\n",
       "      <th>Song_cumu_mean_streams</th>\n",
       "      <th>Artist_cumsum_songs</th>\n",
       "      <th>Artist_cumu_songs</th>\n",
       "      <th>Artist_days_onchart</th>\n",
       "      <th>Artist_cumsum_streams</th>\n",
       "      <th>Artist_cumu_streams</th>\n",
       "      <th>Week_id</th>\n",
       "      <th>Year_week_id</th>\n",
       "      <th>Day_week</th>\n",
       "      <th>Week_id_BB</th>\n",
       "      <th>Week_mean_streams</th>\n",
       "    </tr>\n",
       "  </thead>\n",
       "  <tbody>\n",
       "    <tr>\n",
       "      <td>13761259</td>\n",
       "      <td>2017-01-01</td>\n",
       "      <td>7</td>\n",
       "      <td>One Dance</td>\n",
       "      <td>Drake</td>\n",
       "      <td>753150</td>\n",
       "      <td>United States</td>\n",
       "      <td>3.0</td>\n",
       "      <td>2017</td>\n",
       "      <td>2017-01-01</td>\n",
       "      <td>0.0</td>\n",
       "      <td>1</td>\n",
       "      <td>2017-01-01</td>\n",
       "      <td>1</td>\n",
       "      <td>NaT</td>\n",
       "      <td>NaN</td>\n",
       "      <td>1</td>\n",
       "      <td>1</td>\n",
       "      <td>1</td>\n",
       "      <td>753150</td>\n",
       "      <td>753150.000000</td>\n",
       "      <td>5</td>\n",
       "      <td>9.0</td>\n",
       "      <td>1</td>\n",
       "      <td>2778807</td>\n",
       "      <td>3909721.0</td>\n",
       "      <td>00</td>\n",
       "      <td>2017-00</td>\n",
       "      <td>Sun</td>\n",
       "      <td>0</td>\n",
       "      <td>275695.290000</td>\n",
       "    </tr>\n",
       "    <tr>\n",
       "      <td>13761269</td>\n",
       "      <td>2017-01-02</td>\n",
       "      <td>13</td>\n",
       "      <td>One Dance</td>\n",
       "      <td>Drake</td>\n",
       "      <td>487243</td>\n",
       "      <td>United States</td>\n",
       "      <td>3.0</td>\n",
       "      <td>2017</td>\n",
       "      <td>2017-01-01</td>\n",
       "      <td>1.0</td>\n",
       "      <td>2</td>\n",
       "      <td>2017-01-01</td>\n",
       "      <td>0</td>\n",
       "      <td>2017-01-01</td>\n",
       "      <td>1.0</td>\n",
       "      <td>0</td>\n",
       "      <td>1</td>\n",
       "      <td>2</td>\n",
       "      <td>1240393</td>\n",
       "      <td>620196.500000</td>\n",
       "      <td>10</td>\n",
       "      <td>10.0</td>\n",
       "      <td>2</td>\n",
       "      <td>6293003</td>\n",
       "      <td>7296288.0</td>\n",
       "      <td>01</td>\n",
       "      <td>2017-01</td>\n",
       "      <td>Mon</td>\n",
       "      <td>0</td>\n",
       "      <td>272030.682857</td>\n",
       "    </tr>\n",
       "    <tr>\n",
       "      <td>13761279</td>\n",
       "      <td>2017-01-03</td>\n",
       "      <td>18</td>\n",
       "      <td>One Dance</td>\n",
       "      <td>Drake</td>\n",
       "      <td>512037</td>\n",
       "      <td>United States</td>\n",
       "      <td>3.0</td>\n",
       "      <td>2017</td>\n",
       "      <td>2017-01-01</td>\n",
       "      <td>2.0</td>\n",
       "      <td>3</td>\n",
       "      <td>2017-01-01</td>\n",
       "      <td>0</td>\n",
       "      <td>2017-01-02</td>\n",
       "      <td>1.0</td>\n",
       "      <td>0</td>\n",
       "      <td>1</td>\n",
       "      <td>3</td>\n",
       "      <td>1752430</td>\n",
       "      <td>584143.333333</td>\n",
       "      <td>10</td>\n",
       "      <td>10.0</td>\n",
       "      <td>3</td>\n",
       "      <td>9856908</td>\n",
       "      <td>10974059.0</td>\n",
       "      <td>01</td>\n",
       "      <td>2017-01</td>\n",
       "      <td>Tue</td>\n",
       "      <td>1</td>\n",
       "      <td>272030.682857</td>\n",
       "    </tr>\n",
       "    <tr>\n",
       "      <td>13761289</td>\n",
       "      <td>2017-01-04</td>\n",
       "      <td>20</td>\n",
       "      <td>One Dance</td>\n",
       "      <td>Drake</td>\n",
       "      <td>498653</td>\n",
       "      <td>United States</td>\n",
       "      <td>3.0</td>\n",
       "      <td>2017</td>\n",
       "      <td>2017-01-01</td>\n",
       "      <td>3.0</td>\n",
       "      <td>4</td>\n",
       "      <td>2017-01-01</td>\n",
       "      <td>0</td>\n",
       "      <td>2017-01-03</td>\n",
       "      <td>1.0</td>\n",
       "      <td>0</td>\n",
       "      <td>1</td>\n",
       "      <td>4</td>\n",
       "      <td>2251083</td>\n",
       "      <td>562770.750000</td>\n",
       "      <td>10</td>\n",
       "      <td>10.0</td>\n",
       "      <td>4</td>\n",
       "      <td>13524121</td>\n",
       "      <td>14640932.0</td>\n",
       "      <td>01</td>\n",
       "      <td>2017-01</td>\n",
       "      <td>Wed</td>\n",
       "      <td>1</td>\n",
       "      <td>272030.682857</td>\n",
       "    </tr>\n",
       "    <tr>\n",
       "      <td>13761299</td>\n",
       "      <td>2017-01-05</td>\n",
       "      <td>19</td>\n",
       "      <td>One Dance</td>\n",
       "      <td>Drake</td>\n",
       "      <td>504230</td>\n",
       "      <td>United States</td>\n",
       "      <td>3.0</td>\n",
       "      <td>2017</td>\n",
       "      <td>2017-01-01</td>\n",
       "      <td>4.0</td>\n",
       "      <td>5</td>\n",
       "      <td>2017-01-01</td>\n",
       "      <td>0</td>\n",
       "      <td>2017-01-04</td>\n",
       "      <td>1.0</td>\n",
       "      <td>0</td>\n",
       "      <td>1</td>\n",
       "      <td>5</td>\n",
       "      <td>2755313</td>\n",
       "      <td>551062.600000</td>\n",
       "      <td>10</td>\n",
       "      <td>10.0</td>\n",
       "      <td>5</td>\n",
       "      <td>17232069</td>\n",
       "      <td>18405690.0</td>\n",
       "      <td>01</td>\n",
       "      <td>2017-01</td>\n",
       "      <td>Thu</td>\n",
       "      <td>1</td>\n",
       "      <td>272030.682857</td>\n",
       "    </tr>\n",
       "  </tbody>\n",
       "</table>\n",
       "</div>"
      ],
      "text/plain": [
       "               Date  Position Track Name Artist  Streams        Country  \\\n",
       "13761259 2017-01-01         7  One Dance  Drake   753150  United States   \n",
       "13761269 2017-01-02        13  One Dance  Drake   487243  United States   \n",
       "13761279 2017-01-03        18  One Dance  Drake   512037  United States   \n",
       "13761289 2017-01-04        20  One Dance  Drake   498653  United States   \n",
       "13761299 2017-01-05        19  One Dance  Drake   504230  United States   \n",
       "\n",
       "          No. of Collaborators  Year Song_min_date  Song_days_since_first  \\\n",
       "13761259                   3.0  2017    2017-01-01                    0.0   \n",
       "13761269                   3.0  2017    2017-01-01                    1.0   \n",
       "13761279                   3.0  2017    2017-01-01                    2.0   \n",
       "13761289                   3.0  2017    2017-01-01                    3.0   \n",
       "13761299                   3.0  2017    2017-01-01                    4.0   \n",
       "\n",
       "          Song_days_onchart Artist_min_date  Artist_new_song   Date_lag  \\\n",
       "13761259                  1      2017-01-01                1        NaT   \n",
       "13761269                  2      2017-01-01                0 2017-01-01   \n",
       "13761279                  3      2017-01-01                0 2017-01-02   \n",
       "13761289                  4      2017-01-01                0 2017-01-03   \n",
       "13761299                  5      2017-01-01                0 2017-01-04   \n",
       "\n",
       "          Date_diff  Song_new_streak  Song_streak_id  Song_consec_day  \\\n",
       "13761259        NaN                1               1                1   \n",
       "13761269        1.0                0               1                2   \n",
       "13761279        1.0                0               1                3   \n",
       "13761289        1.0                0               1                4   \n",
       "13761299        1.0                0               1                5   \n",
       "\n",
       "          Song_cumu_streams  Song_cumu_mean_streams  Artist_cumsum_songs  \\\n",
       "13761259             753150           753150.000000                    5   \n",
       "13761269            1240393           620196.500000                   10   \n",
       "13761279            1752430           584143.333333                   10   \n",
       "13761289            2251083           562770.750000                   10   \n",
       "13761299            2755313           551062.600000                   10   \n",
       "\n",
       "          Artist_cumu_songs  Artist_days_onchart  Artist_cumsum_streams  \\\n",
       "13761259                9.0                    1                2778807   \n",
       "13761269               10.0                    2                6293003   \n",
       "13761279               10.0                    3                9856908   \n",
       "13761289               10.0                    4               13524121   \n",
       "13761299               10.0                    5               17232069   \n",
       "\n",
       "          Artist_cumu_streams Week_id Year_week_id Day_week  Week_id_BB  \\\n",
       "13761259            3909721.0      00      2017-00      Sun           0   \n",
       "13761269            7296288.0      01      2017-01      Mon           0   \n",
       "13761279           10974059.0      01      2017-01      Tue           1   \n",
       "13761289           14640932.0      01      2017-01      Wed           1   \n",
       "13761299           18405690.0      01      2017-01      Thu           1   \n",
       "\n",
       "          Week_mean_streams  \n",
       "13761259      275695.290000  \n",
       "13761269      272030.682857  \n",
       "13761279      272030.682857  \n",
       "13761289      272030.682857  \n",
       "13761299      272030.682857  "
      ]
     },
     "execution_count": 34,
     "metadata": {},
     "output_type": "execute_result"
    }
   ],
   "source": [
    "data7.loc[(data6['Artist']=='Drake') &\n",
    "          (data6['Country']=='United States') &\n",
    "          (data6['Track Name']=='One Dance')\n",
    "          ,:]\\\n",
    ".drop(['Track URL', 'Track URI', 'Collaborator URI'], axis=1).head()"
   ]
  },
  {
   "cell_type": "code",
   "execution_count": null,
   "metadata": {},
   "outputs": [],
   "source": [
    "# data6.loc[(data6['Artist']=='Drake') &\n",
    "#           (data6['Country']=='United States')\n",
    "#           ,:]\\\n",
    "# .drop(['Track URL'], axis=1).head(25)"
   ]
  },
  {
   "cell_type": "code",
   "execution_count": null,
   "metadata": {},
   "outputs": [],
   "source": [
    "# data6.to_csv('2020.12.14 top200_clean.csv')"
   ]
  },
  {
   "cell_type": "code",
   "execution_count": null,
   "metadata": {},
   "outputs": [],
   "source": [
    "# data7.to_csv('2020.12.15 top200_reduced_fe.csv', index=False)"
   ]
  },
  {
   "cell_type": "code",
   "execution_count": null,
   "metadata": {},
   "outputs": [],
   "source": [
    "# data8.to_csv('2020.12.15 top200_reduced_fe_usa.csv', index=False)"
   ]
  },
  {
   "cell_type": "code",
   "execution_count": null,
   "metadata": {},
   "outputs": [],
   "source": [
    "# data6[data6['Country']=='United States'].to_csv('2020.12.14 top200_usa_clean.csv')"
   ]
  }
 ],
 "metadata": {
  "kernelspec": {
   "display_name": "Python 3",
   "language": "python",
   "name": "python3"
  },
  "language_info": {
   "codemirror_mode": {
    "name": "ipython",
    "version": 3
   },
   "file_extension": ".py",
   "mimetype": "text/x-python",
   "name": "python",
   "nbconvert_exporter": "python",
   "pygments_lexer": "ipython3",
   "version": "3.7.4"
  },
  "varInspector": {
   "cols": {
    "lenName": 16,
    "lenType": 16,
    "lenVar": 40
   },
   "kernels_config": {
    "python": {
     "delete_cmd_postfix": "",
     "delete_cmd_prefix": "del ",
     "library": "var_list.py",
     "varRefreshCmd": "print(var_dic_list())"
    },
    "r": {
     "delete_cmd_postfix": ") ",
     "delete_cmd_prefix": "rm(",
     "library": "var_list.r",
     "varRefreshCmd": "cat(var_dic_list()) "
    }
   },
   "types_to_exclude": [
    "module",
    "function",
    "builtin_function_or_method",
    "instance",
    "_Feature"
   ],
   "window_display": false
  }
 },
 "nbformat": 4,
 "nbformat_minor": 2
}
