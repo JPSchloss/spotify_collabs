{
 "cells": [
  {
   "cell_type": "markdown",
   "metadata": {},
   "source": [
    "## Imports"
   ]
  },
  {
   "cell_type": "code",
   "execution_count": 1,
   "metadata": {},
   "outputs": [],
   "source": [
    "import spotipy\n",
    "from spotipy.oauth2 import SpotifyClientCredentials\n",
    "import spotipy.util as util\n",
    "import pandas as pd\n",
    "import numpy as np \n",
    "import matplotlib.pyplot as plt\n",
    "import time "
   ]
  },
  {
   "cell_type": "code",
   "execution_count": 2,
   "metadata": {},
   "outputs": [
    {
     "data": {
      "text/html": [
       "<div>\n",
       "<style scoped>\n",
       "    .dataframe tbody tr th:only-of-type {\n",
       "        vertical-align: middle;\n",
       "    }\n",
       "\n",
       "    .dataframe tbody tr th {\n",
       "        vertical-align: top;\n",
       "    }\n",
       "\n",
       "    .dataframe thead th {\n",
       "        text-align: right;\n",
       "    }\n",
       "</style>\n",
       "<table border=\"1\" class=\"dataframe\">\n",
       "  <thead>\n",
       "    <tr style=\"text-align: right;\">\n",
       "      <th></th>\n",
       "      <th>Position</th>\n",
       "      <th>Track Name</th>\n",
       "      <th>Artist</th>\n",
       "      <th>Streams</th>\n",
       "      <th>URL</th>\n",
       "    </tr>\n",
       "  </thead>\n",
       "  <tbody>\n",
       "    <tr>\n",
       "      <th>0</th>\n",
       "      <td>1</td>\n",
       "      <td>DÁKITI</td>\n",
       "      <td>Bad Bunny</td>\n",
       "      <td>6016657</td>\n",
       "      <td>https://open.spotify.com/track/4MzXwWMhyBbmu6h...</td>\n",
       "    </tr>\n",
       "    <tr>\n",
       "      <th>1</th>\n",
       "      <td>2</td>\n",
       "      <td>All I Want for Christmas Is You</td>\n",
       "      <td>Mariah Carey</td>\n",
       "      <td>5902919</td>\n",
       "      <td>https://open.spotify.com/track/0bYg9bo50gSsH3L...</td>\n",
       "    </tr>\n",
       "    <tr>\n",
       "      <th>2</th>\n",
       "      <td>3</td>\n",
       "      <td>Last Christmas</td>\n",
       "      <td>Wham!</td>\n",
       "      <td>5153859</td>\n",
       "      <td>https://open.spotify.com/track/2FRnf9qhLbvw8fu...</td>\n",
       "    </tr>\n",
       "    <tr>\n",
       "      <th>3</th>\n",
       "      <td>4</td>\n",
       "      <td>Santa Tell Me</td>\n",
       "      <td>Ariana Grande</td>\n",
       "      <td>4202883</td>\n",
       "      <td>https://open.spotify.com/track/0lizgQ7Qw35od7C...</td>\n",
       "    </tr>\n",
       "    <tr>\n",
       "      <th>4</th>\n",
       "      <td>5</td>\n",
       "      <td>It's Beginning to Look a Lot like Christmas</td>\n",
       "      <td>Michael Bublé</td>\n",
       "      <td>4074711</td>\n",
       "      <td>https://open.spotify.com/track/0lLdorYw7lVrJyd...</td>\n",
       "    </tr>\n",
       "  </tbody>\n",
       "</table>\n",
       "</div>"
      ],
      "text/plain": [
       "   Position                                   Track Name         Artist  \\\n",
       "0         1                                       DÁKITI      Bad Bunny   \n",
       "1         2              All I Want for Christmas Is You   Mariah Carey   \n",
       "2         3                               Last Christmas          Wham!   \n",
       "3         4                                Santa Tell Me  Ariana Grande   \n",
       "4         5  It's Beginning to Look a Lot like Christmas  Michael Bublé   \n",
       "\n",
       "   Streams                                                URL  \n",
       "0  6016657  https://open.spotify.com/track/4MzXwWMhyBbmu6h...  \n",
       "1  5902919  https://open.spotify.com/track/0bYg9bo50gSsH3L...  \n",
       "2  5153859  https://open.spotify.com/track/2FRnf9qhLbvw8fu...  \n",
       "3  4202883  https://open.spotify.com/track/0lizgQ7Qw35od7C...  \n",
       "4  4074711  https://open.spotify.com/track/0lLdorYw7lVrJyd...  "
      ]
     },
     "execution_count": 2,
     "metadata": {},
     "output_type": "execute_result"
    }
   ],
   "source": [
    "chart = pd.read_csv('../regional-global-daily-latest.csv', header = 1)\n",
    "chart.head()"
   ]
  },
  {
   "cell_type": "code",
   "execution_count": 3,
   "metadata": {},
   "outputs": [],
   "source": [
    "song_uris = []\n",
    "for url in chart['URL']:\n",
    "     song_uris.append(url[31:])\n",
    "chart['song_uri'] = song_uris"
   ]
  },
  {
   "cell_type": "code",
   "execution_count": 4,
   "metadata": {},
   "outputs": [
    {
     "data": {
      "text/html": [
       "<div>\n",
       "<style scoped>\n",
       "    .dataframe tbody tr th:only-of-type {\n",
       "        vertical-align: middle;\n",
       "    }\n",
       "\n",
       "    .dataframe tbody tr th {\n",
       "        vertical-align: top;\n",
       "    }\n",
       "\n",
       "    .dataframe thead th {\n",
       "        text-align: right;\n",
       "    }\n",
       "</style>\n",
       "<table border=\"1\" class=\"dataframe\">\n",
       "  <thead>\n",
       "    <tr style=\"text-align: right;\">\n",
       "      <th></th>\n",
       "      <th>Position</th>\n",
       "      <th>Track Name</th>\n",
       "      <th>Artist</th>\n",
       "      <th>Streams</th>\n",
       "      <th>URL</th>\n",
       "      <th>song_uri</th>\n",
       "    </tr>\n",
       "  </thead>\n",
       "  <tbody>\n",
       "    <tr>\n",
       "      <th>0</th>\n",
       "      <td>1</td>\n",
       "      <td>DÁKITI</td>\n",
       "      <td>Bad Bunny</td>\n",
       "      <td>6016657</td>\n",
       "      <td>https://open.spotify.com/track/4MzXwWMhyBbmu6h...</td>\n",
       "      <td>4MzXwWMhyBbmu6hOcLVD49</td>\n",
       "    </tr>\n",
       "    <tr>\n",
       "      <th>1</th>\n",
       "      <td>2</td>\n",
       "      <td>All I Want for Christmas Is You</td>\n",
       "      <td>Mariah Carey</td>\n",
       "      <td>5902919</td>\n",
       "      <td>https://open.spotify.com/track/0bYg9bo50gSsH3L...</td>\n",
       "      <td>0bYg9bo50gSsH3LtXe2SQn</td>\n",
       "    </tr>\n",
       "    <tr>\n",
       "      <th>2</th>\n",
       "      <td>3</td>\n",
       "      <td>Last Christmas</td>\n",
       "      <td>Wham!</td>\n",
       "      <td>5153859</td>\n",
       "      <td>https://open.spotify.com/track/2FRnf9qhLbvw8fu...</td>\n",
       "      <td>2FRnf9qhLbvw8fu4IBXx78</td>\n",
       "    </tr>\n",
       "    <tr>\n",
       "      <th>3</th>\n",
       "      <td>4</td>\n",
       "      <td>Santa Tell Me</td>\n",
       "      <td>Ariana Grande</td>\n",
       "      <td>4202883</td>\n",
       "      <td>https://open.spotify.com/track/0lizgQ7Qw35od7C...</td>\n",
       "      <td>0lizgQ7Qw35od7CYaoMBZb</td>\n",
       "    </tr>\n",
       "    <tr>\n",
       "      <th>4</th>\n",
       "      <td>5</td>\n",
       "      <td>It's Beginning to Look a Lot like Christmas</td>\n",
       "      <td>Michael Bublé</td>\n",
       "      <td>4074711</td>\n",
       "      <td>https://open.spotify.com/track/0lLdorYw7lVrJyd...</td>\n",
       "      <td>0lLdorYw7lVrJydTINhWdI</td>\n",
       "    </tr>\n",
       "  </tbody>\n",
       "</table>\n",
       "</div>"
      ],
      "text/plain": [
       "   Position                                   Track Name         Artist  \\\n",
       "0         1                                       DÁKITI      Bad Bunny   \n",
       "1         2              All I Want for Christmas Is You   Mariah Carey   \n",
       "2         3                               Last Christmas          Wham!   \n",
       "3         4                                Santa Tell Me  Ariana Grande   \n",
       "4         5  It's Beginning to Look a Lot like Christmas  Michael Bublé   \n",
       "\n",
       "   Streams                                                URL  \\\n",
       "0  6016657  https://open.spotify.com/track/4MzXwWMhyBbmu6h...   \n",
       "1  5902919  https://open.spotify.com/track/0bYg9bo50gSsH3L...   \n",
       "2  5153859  https://open.spotify.com/track/2FRnf9qhLbvw8fu...   \n",
       "3  4202883  https://open.spotify.com/track/0lizgQ7Qw35od7C...   \n",
       "4  4074711  https://open.spotify.com/track/0lLdorYw7lVrJyd...   \n",
       "\n",
       "                 song_uri  \n",
       "0  4MzXwWMhyBbmu6hOcLVD49  \n",
       "1  0bYg9bo50gSsH3LtXe2SQn  \n",
       "2  2FRnf9qhLbvw8fu4IBXx78  \n",
       "3  0lizgQ7Qw35od7CYaoMBZb  \n",
       "4  0lLdorYw7lVrJydTINhWdI  "
      ]
     },
     "execution_count": 4,
     "metadata": {},
     "output_type": "execute_result"
    }
   ],
   "source": [
    "chart.head()"
   ]
  },
  {
   "cell_type": "markdown",
   "metadata": {},
   "source": [
    "## Credentials "
   ]
  },
  {
   "cell_type": "code",
   "execution_count": 5,
   "metadata": {},
   "outputs": [],
   "source": [
    "creds= pd.read_csv('../credentials')\n",
    "SPOTIPY_CLIENT_ID = creds['Client ID'][0]\n",
    "SPOTIPY_CLIENT_SECRET = creds['Client Secret'][0]\n",
    "#Shameless redirect to my dance group if you're signing in for the first time\n",
    "SPOTIPY_REDIRECT_URI= 'https://www.ballethermosoamanecer.com/'\n",
    "username = \"\""
   ]
  },
  {
   "cell_type": "code",
   "execution_count": null,
   "metadata": {},
   "outputs": [
    {
     "name": "stdout",
     "output_type": "stream",
     "text": [
      "There are 200 songs that we found\n",
      "Found audio features for 40 songs\n",
      "Found audio features for 60 songs\n",
      "Found audio features for 80 songs\n",
      "Found audio features for 100 songs\n",
      "Found audio features for 120 songs\n",
      "Found audio features for 140 songs\n",
      "Found audio features for 160 songs\n",
      "Found audio features for 180 songs\n",
      "Found audio features for 200 songs\n",
      "Found audio features for 220 songs\n",
      "Creating Dataframe\n",
      "Merging Dataframe\n",
      "There are 129 artists that we found\n",
      "Found album features for 10 artists\n",
      "Found album features for 20 artists\n",
      "Found album features for 30 artists\n",
      "Found album features for 40 artists\n",
      "Found album features for 50 artists\n"
     ]
    }
   ],
   "source": [
    "client_credentials_manager = SpotifyClientCredentials(client_id= SPOTIPY_CLIENT_ID, \n",
    "                                                      client_secret=SPOTIPY_CLIENT_SECRET)\n",
    "\n",
    "sp = spotipy.Spotify(client_credentials_manager= client_credentials_manager)\n",
    "scope = 'playlist-read-collaborative user-library-read playlist-read-private playlist-modify-public playlist-modify-private user-read-recently-played user-top-read'\n",
    "token = util.prompt_for_user_token(username, scope, \n",
    "                                   client_id= SPOTIPY_CLIENT_ID, \n",
    "                                   client_secret= SPOTIPY_CLIENT_SECRET, \n",
    "                                   redirect_uri= SPOTIPY_REDIRECT_URI)\n",
    "if token:\n",
    "    sp = spotipy.Spotify(auth=token)\n",
    "    track_audio_features = []\n",
    "    artist_uri = []\n",
    "    artist_name = []\n",
    "    artist_set = set()\n",
    "    alb_date = []\n",
    "    alb_name = [] \n",
    "    art_uri = []\n",
    "    alb_genre = []\n",
    "    loops = 0\n",
    "    a_count = 0 \n",
    "    \n",
    "    print(f'There are {len(song_uris)} songs that we found')\n",
    "    while 20* (loops+1) <= len(song_uris):\n",
    "        #get audio features in batches of 20\n",
    "        track_audio_features.extend(sp.audio_features(song_uris[20*loops :20*(loops+1)]))\n",
    "        \n",
    "        #getting artist information \n",
    "        temp= [i for i in sp.tracks(song_uris[20*loops :20*(loops + 1)])['tracks'] ]\n",
    "        for index in range(len(temp)):\n",
    "            to_add = [artist['id'] for artist in temp[index]['artists']]\n",
    "            artist_uri.append(to_add)\n",
    "            artist_name.append([artist['name'] for artist in temp[index]['artists']])\n",
    "            #if there was a collab, collect artist information\n",
    "            if len(to_add) > 1:\n",
    "                for artist in temp[index]['artists']:\n",
    "                    artist_set.add(artist['id'])\n",
    "        loops += 1\n",
    "        print(f'Found audio features for {20*(loops+1)} songs')\n",
    "        \n",
    "    print('Creating Dataframe')\n",
    "    audio_features = pd.DataFrame(track_audio_features)\n",
    "    chart['artist_uri'] = artist_uri\n",
    "    \n",
    "    print(\"Merging Dataframe\")\n",
    "    df = chart.merge(audio_features, left_on = 'song_uri', right_on= 'id')\n",
    "    \n",
    "    print(f'There are {len(artist_set)} artists that we found')\n",
    "    for uri in artist_set: \n",
    "        for i in range(len(sp.artist_albums(uri)['items'])):\n",
    "            art_uri.append(uri)\n",
    "            alb_date.append(sp.artist_albums(uri)['items'][i]['release_date'])\n",
    "            alb_name.append(sp.artist_albums(uri)['items'][i]['name'])             \n",
    "#             alb_genre.append(sp.artist_albums(uri)['items'][i]['genres'])\n",
    "        a_count += 1 \n",
    "        if a_count % 10 == 0:     \n",
    "            print(f'Found album features for {a_count} artists')\n",
    "    \n",
    "    print(\"Creating Artist Dataframe\")\n",
    "    album_data = pd.DataFrame({'Artist URI': art_uri,\n",
    "                           'Album Name': alb_name,\n",
    "                           'Album Release Date' : alb_date\n",
    "#                                'Album Generes': alb_genres\n",
    "                          })\n",
    "    \n",
    "else:\n",
    "    print(\"Can't get token for\", username)\n",
    "    \n",
    "    \n",
    "    "
   ]
  },
  {
   "cell_type": "code",
   "execution_count": null,
   "metadata": {},
   "outputs": [],
   "source": [
    "# df['collaborators'] = df['artist_uri'].apply(lambda x : len(x))"
   ]
  },
  {
   "cell_type": "code",
   "execution_count": null,
   "metadata": {},
   "outputs": [],
   "source": [
    "df[df['collaborators']>1]"
   ]
  },
  {
   "cell_type": "code",
   "execution_count": null,
   "metadata": {},
   "outputs": [],
   "source": [
    "# df.drop(['URL', 'song_uri', 'type', 'uri', 'track_href'])"
   ]
  },
  {
   "cell_type": "code",
   "execution_count": null,
   "metadata": {},
   "outputs": [],
   "source": [
    "df.columns"
   ]
  },
  {
   "cell_type": "code",
   "execution_count": null,
   "metadata": {},
   "outputs": [],
   "source": [
    "album_data"
   ]
  },
  {
   "cell_type": "code",
   "execution_count": null,
   "metadata": {},
   "outputs": [],
   "source": []
  }
 ],
 "metadata": {
  "kernelspec": {
   "display_name": "Python 3",
   "language": "python",
   "name": "python3"
  },
  "language_info": {
   "codemirror_mode": {
    "name": "ipython",
    "version": 3
   },
   "file_extension": ".py",
   "mimetype": "text/x-python",
   "name": "python",
   "nbconvert_exporter": "python",
   "pygments_lexer": "ipython3",
   "version": "3.7.7"
  }
 },
 "nbformat": 4,
 "nbformat_minor": 4
}
